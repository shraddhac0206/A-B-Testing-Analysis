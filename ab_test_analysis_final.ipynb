{
 "cells": [
  {
   "cell_type": "markdown",
   "id": "5a61d4d2",
   "metadata": {},
   "source": [
    "# A/B Testing Analysis: New vs Old Landing Page"
   ]
  },
  {
   "cell_type": "markdown",
   "id": "da750666",
   "metadata": {},
   "source": [
    "## 1. Introduction\n",
    "**Objective:** Determine if a new landing page performs better than the current one in terms of user conversions.\n",
    "\n",
    "We perform an A/B test to compare the conversion rates of a treatment group (new page) and a control group (old page)."
   ]
  },
  {
   "cell_type": "code",
   "execution_count": null,
   "id": "71f96996",
   "metadata": {},
   "outputs": [],
   "source": [
    "import pandas as pd\n",
    "import numpy as np\n",
    "from scipy import stats\n",
    "import matplotlib.pyplot as plt\n",
    "import seaborn as sns"
   ]
  },
  {
   "cell_type": "markdown",
   "id": "b20d6359",
   "metadata": {},
   "source": [
    "## 2. Load Dataset"
   ]
  },
  {
   "cell_type": "code",
   "execution_count": null,
   "id": "41506f93",
   "metadata": {},
   "outputs": [],
   "source": [
    "df = pd.read_csv('/mnt/data/ab_data.csv')\n",
    "df.head()"
   ]
  },
  {
   "cell_type": "markdown",
   "id": "f2c780df",
   "metadata": {},
   "source": [
    "## 3. Data Cleaning\n",
    "- Remove rows with mismatched group and landing page\n",
    "- Remove duplicate user IDs"
   ]
  },
  {
   "cell_type": "code",
   "execution_count": null,
   "id": "9a313e4c",
   "metadata": {},
   "outputs": [],
   "source": [
    "ab_clean = df.query(\n",
    "    '(group == \"treatment\" and landing_page == \"new_page\") or (group == \"control\" and landing_page == \"old_page\")'\n",
    ")\n",
    "\n",
    "# Remove duplicates\n",
    "ab_clean = ab_clean.drop_duplicates(subset='user_id')\n",
    "ab_clean.shape"
   ]
  },
  {
   "cell_type": "markdown",
   "id": "c94b74be",
   "metadata": {},
   "source": [
    "## 4. Conversion Rate Analysis"
   ]
  },
  {
   "cell_type": "code",
   "execution_count": null,
   "id": "1f8daca0",
   "metadata": {},
   "outputs": [],
   "source": [
    "summary = ab_clean.groupby('group')['converted'].agg(['mean', 'count', 'sum']).reset_index()\n",
    "summary.columns = ['Group', 'Conversion Rate', 'Total Users', 'Total Conversions']\n",
    "plt.figure(figsize=(6,4))\n",
    "sns.barplot(x='Group', y='Conversion Rate', data=summary)\n",
    "plt.title(\"Conversion Rate by Group\")\n",
    "plt.ylim(0, 0.15)\n",
    "plt.grid(axis='y')\n",
    "plt.show()\n",
    "summary"
   ]
  },
  {
   "cell_type": "markdown",
   "id": "4e3f57fa",
   "metadata": {},
   "source": [
    "## 5. Hypothesis Testing (Z-Test for Proportions)"
   ]
  },
  {
   "cell_type": "code",
   "execution_count": null,
   "id": "2e647e2a",
   "metadata": {},
   "outputs": [],
   "source": [
    "# Control values\n",
    "conv_c = 17489\n",
    "n_c = 145274\n",
    "\n",
    "# Treatment values\n",
    "conv_t = 17264\n",
    "n_t = 145310\n",
    "\n",
    "p_pool = (conv_c + conv_t) / (n_c + n_t)\n",
    "se = np.sqrt(p_pool * (1 - p_pool) * (1/n_c + 1/n_t))\n",
    "z = (conv_t/n_t - conv_c/n_c) / se\n",
    "p = stats.norm.sf(abs(z)) * 2\n",
    "z, p"
   ]
  },
  {
   "cell_type": "markdown",
   "id": "dd82f3ec",
   "metadata": {},
   "source": [
    "## 6. Conclusion\n",
    "- **Z-score:** ~-1.31\n",
    "- **P-value:** ~0.19\n",
    "\n",
    "**Result:** The difference in conversion rates is not statistically significant. We cannot conclude that the new page performs better."
   ]
  }
 ],
 "metadata": {},
 "nbformat": 4,
 "nbformat_minor": 5
}
